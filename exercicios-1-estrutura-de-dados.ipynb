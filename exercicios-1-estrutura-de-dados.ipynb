{
 "cells": [
  {
   "attachments": {
    "c14987cf-4f9a-4931-a02c-56d06d80a6db.png": {
     "image/png": "[encoded data removed]"
    }
   },
   "cell_type": "markdown",
   "metadata": {},
   "source": [
    "![logo.png](attachment:c14987cf-4f9a-4931-a02c-56d06d80a6db.png)<img src=\"https://asimov.academy/wp-content/uploads/2021/01/logo.png\" width=\"50\"/>\n",
    "_____________________________________________\n",
    "\n",
    "## Exercícios #1 - Estruturas de dados\n"
   ]
  },
  {
   "cell_type": "markdown",
   "metadata": {},
   "source": [
    "### Exercício 1\n",
    "Utilizando o built-in method input(), crie um programa que receba a altura e o peso de uma pessoa e imprima na tela o IMC da mesma."
   ]
  },
  {
   "cell_type": "code",
   "execution_count": 16,
   "metadata": {},
   "outputs": [
    {
     "name": "stdin",
     "output_type": "stream",
     "text": [
      " 1.82\n",
      " 86\n"
     ]
    },
    {
     "data": {
      "text/plain": [
       "25.963047941069917"
      ]
     },
     "execution_count": 16,
     "metadata": {},
     "output_type": "execute_result"
    }
   ],
   "source": [
    "altura = input()\n",
    "peso = input()\n",
    "\n",
    "IMC = (float(peso)/float(altura)**2)\n",
    "IMC"
   ]
  },
  {
   "cell_type": "markdown",
   "metadata": {},
   "source": [
    "### Exercício 2 \n",
    "Escreva um programa que pergunte o nome completo do usuário e cumprimente o mesmo pelo primeiro nome."
   ]
  },
  {
   "cell_type": "code",
   "execution_count": 31,
   "metadata": {},
   "outputs": [
    {
     "name": "stdout",
     "output_type": "stream",
     "text": [
      "Informe seu nome completo: \n"
     ]
    },
    {
     "name": "stdin",
     "output_type": "stream",
     "text": [
      " Camila Silva\n"
     ]
    },
    {
     "name": "stdout",
     "output_type": "stream",
     "text": [
      "Olá, Camila! É uma honra tê-lo(a) conosco.\n"
     ]
    }
   ],
   "source": [
    "print('Informe seu nome completo: ')\n",
    "nome_completo = input()\n",
    "\n",
    "print('Olá, ' + nome_completo.split()[0] + '! É uma honra tê-lo(a) conosco.')"
   ]
  },
  {
   "cell_type": "markdown",
   "metadata": {},
   "source": [
    "### Exercício 3\n",
    "Desenho um código que extraia o domínio de um e-mail informado."
   ]
  },
  {
   "cell_type": "code",
   "execution_count": 39,
   "metadata": {},
   "outputs": [
    {
     "name": "stdout",
     "output_type": "stream",
     "text": [
      "Informe o email abaixo: \n"
     ]
    },
    {
     "name": "stdin",
     "output_type": "stream",
     "text": [
      " vitormbaraujo1306@gmail.com\n"
     ]
    },
    {
     "name": "stdout",
     "output_type": "stream",
     "text": [
      "Domínio: gmail.com\n"
     ]
    }
   ],
   "source": [
    "print('Informe o email abaixo: ')\n",
    "email = input()\n",
    "dominio = email.split('@')[1]\n",
    "\n",
    "print('Domínio: ' + dominio)"
   ]
  },
  {
   "cell_type": "markdown",
   "metadata": {},
   "source": [
    "### Exercício 4 \n",
    "Faça um programa para uma loja de tintas. A pessoa informa a área em m2 que deseja pintar, e o script calculará a quantidade de latas de tinta que a pessoa deve comprar e o valor. Considere que cada litro de tinta pinta 3m2, que cada lata contém 18L e que custa R$ 80."
   ]
  },
  {
   "cell_type": "code",
   "execution_count": 70,
   "metadata": {},
   "outputs": [
    {
     "name": "stdout",
     "output_type": "stream",
     "text": [
      "Informe a área em m² que você deseja pintar: \n"
     ]
    },
    {
     "name": "stdin",
     "output_type": "stream",
     "text": [
      " 180\n"
     ]
    },
    {
     "name": "stdout",
     "output_type": "stream",
     "text": [
      "Você irá precisar de 3 latas e isso custará R$ 240.\n"
     ]
    }
   ],
   "source": [
    "print('Informe a área em m² que você deseja pintar: ')\n",
    "area = input()\n",
    "\n",
    "mts = float(area)\n",
    "rendimento = 54.0\n",
    "latas = int(mts/rendimento)\n",
    "custo = latas*80\n",
    "\n",
    "print('Você irá precisar de ' + str(round(latas, 2)) + ' latas e isso custará R$ ' + str(round(custo, 2)) + '.')"
   ]
  },
  {
   "cell_type": "markdown",
   "metadata": {},
   "source": [
    "### Exercício 5\n",
    "Faça um Programa que pergunte quanto você ganha por hora e o número de horas trabalhadas no mês. Calcule e mostre o total do seu salário no referido mês, sabendo-se que são descontados 11% para o Imposto de Renda, 8% para o INSS e 5% para o sindicato, faça um programa que nos dê:\n",
    "1. Salário bruto.\n",
    "2. Quanto pagou ao INSS.\n",
    "3. Quanto pagou ao sindicato.\n",
    "4. O salário líquido."
   ]
  },
  {
   "cell_type": "code",
   "execution_count": 73,
   "metadata": {},
   "outputs": [
    {
     "name": "stdout",
     "output_type": "stream",
     "text": [
      "Qual seu salário por hora?\n"
     ]
    },
    {
     "name": "stdin",
     "output_type": "stream",
     "text": [
      " 10\n"
     ]
    },
    {
     "name": "stdout",
     "output_type": "stream",
     "text": [
      "\n",
      "Quantas horas você trabalhou no mês?\n"
     ]
    },
    {
     "name": "stdin",
     "output_type": "stream",
     "text": [
      " 176\n"
     ]
    },
    {
     "name": "stdout",
     "output_type": "stream",
     "text": [
      "\n",
      "Teu salário bruto é: R$1760.0\n",
      "Imposto de renda: R$193.6\n",
      "INSS: R$140.8\n",
      "Sindicato: R$88.0\n",
      "Coitado... Teu salário líquido é: R$1337.6\n"
     ]
    }
   ],
   "source": [
    "print('Qual seu salário por hora?')\n",
    "rate = float(input())\n",
    "\n",
    "print('\\nQuantas horas você trabalhou no mês?')\n",
    "input2 = input()\n",
    "horas = float(input2)\n",
    "\n",
    "salario_b = rate*horas\n",
    "imposto = salario_b*0.11\n",
    "inss = salario_b*0.08\n",
    "sindicato = salario_b*0.05\n",
    "salario_l = salario_b-(imposto+inss+sindicato)\n",
    "\n",
    "print('\\nTeu salário bruto é: R$' + str(round(salario_b, 2)))\n",
    "print('Imposto de renda: R$' + str(round(imposto, 2)))\n",
    "print('INSS: R$' + str(round(inss, 2)))\n",
    "print('Sindicato: R$' + str(round(sindicato, 2)))\n",
    "print('Coitado... Teu salário líquido é: R$' + str(round(salario_l, 2)))"
   ]
  },
  {
   "cell_type": "code",
   "execution_count": null,
   "metadata": {},
   "outputs": [],
   "source": []
  }
 ],
 "metadata": {
  "kernelspec": {
   "display_name": "Python 3 (ipykernel)",
   "language": "python",
   "name": "python3"
  },
  "language_info": {
   "codemirror_mode": {
    "name": "ipython",
    "version": 3
   },
   "file_extension": ".py",
   "mimetype": "text/x-python",
   "name": "python",
   "nbconvert_exporter": "python",
   "pygments_lexer": "ipython3",
   "version": "3.12.3"
  }
 },
 "nbformat": 4,
 "nbformat_minor": 4
}
