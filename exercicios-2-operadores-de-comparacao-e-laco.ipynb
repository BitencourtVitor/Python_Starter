{
 "cells": [
  {
   "cell_type": "markdown",
   "metadata": {},
   "source": [
    "<img src=\"https://asimov.academy/wp-content/uploads/2021/01/logo.png\" width=\"200\"/>\n",
    "_____________________________________________\n",
    "\n",
    "## Exercícios #2 - Operadores de comparação e laços\n"
   ]
  },
  {
   "cell_type": "markdown",
   "metadata": {},
   "source": [
    "### Exercício 1\n",
    "Faça um programa para a leitura de duas notas parciais de um aluno. O programa deve calcular a média alcançada por aluno e apresentar:\n",
    "- A mensagem \"Aprovado\", se a média alcançada for maior ou igual a 7;\n",
    "- A mensagem \"Reprovado\", se a média for menor do que 7;\n",
    "- A mensagem \"Aprovado com Distinção\", se a média for igual a 10."
   ]
  },
  {
   "cell_type": "code",
   "execution_count": 11,
   "metadata": {},
   "outputs": [
    {
     "name": "stdout",
     "output_type": "stream",
     "text": [
      "Bem vindo, informe as duas notas parciais abaixo de forma respectiva.\n"
     ]
    },
    {
     "name": "stdin",
     "output_type": "stream",
     "text": [
      " 5\n",
      " 7\n"
     ]
    },
    {
     "name": "stdout",
     "output_type": "stream",
     "text": [
      "\n",
      "Reprovado\n"
     ]
    }
   ],
   "source": [
    "print('Bem vindo, informe as duas notas parciais abaixo de forma respectiva.')\n",
    "nota1 = float(input())\n",
    "nota2 = float(input())\n",
    "\n",
    "media = (nota1+nota2)/2\n",
    "if (media == 10):\n",
    "    print('\\nAprovado com Distinção')\n",
    "elif (media >= 7):\n",
    "    print('\\nAprovado')\n",
    "else:\n",
    "    print('\\nReprovado')"
   ]
  },
  {
   "cell_type": "markdown",
   "metadata": {},
   "source": [
    "### Exercício 2\n",
    "Escreva um script que leia três números e mostre o maior e o menor deles."
   ]
  },
  {
   "cell_type": "code",
   "execution_count": 24,
   "metadata": {},
   "outputs": [
    {
     "name": "stdout",
     "output_type": "stream",
     "text": [
      "Informe os três números abaixo:\n"
     ]
    },
    {
     "name": "stdin",
     "output_type": "stream",
     "text": [
      " 7\n",
      " 5\n",
      " 4\n"
     ]
    },
    {
     "name": "stdout",
     "output_type": "stream",
     "text": [
      "Maior número: 7\n"
     ]
    }
   ],
   "source": [
    "print('Informe os três números abaixo:')\n",
    "num1 = int(input())\n",
    "num2 = int(input())\n",
    "num3 = int(input())\n",
    "\n",
    "# Num1 maior\n",
    "if num1 > num2 and num1 > num3:\n",
    "    print('Maior número: {}'.format(num1))\n",
    "\n",
    "# Num2 maior\n",
    "elif num2 > num1 and num2 > num3:\n",
    "    print('Maior número: {}'.format(num2))\n",
    "    \n",
    "# Num3 maior\n",
    "elif num3 > num1 and num3 > num2:\n",
    "    print('Maior número: {}'.format(num3))\n",
    "\n",
    "else:\n",
    "    print('Deu alguma merda aí.')"
   ]
  },
  {
   "cell_type": "markdown",
   "metadata": {},
   "source": [
    "### Exercício 3 \n",
    "Nome na vertical em escada. \n",
    "\n",
    "F<br>\n",
    "FU<br>\n",
    "FUL<br>\n",
    "FULA<br>\n",
    "FULAN<br>\n",
    "FULANO<br>"
   ]
  },
  {
   "cell_type": "code",
   "execution_count": 36,
   "metadata": {},
   "outputs": [
    {
     "name": "stdout",
     "output_type": "stream",
     "text": [
      "Digite o nome: \n"
     ]
    },
    {
     "name": "stdin",
     "output_type": "stream",
     "text": [
      " CAMILA\n"
     ]
    },
    {
     "name": "stdout",
     "output_type": "stream",
     "text": [
      "C\n",
      "CA\n",
      "CAM\n",
      "CAMI\n",
      "CAMIL\n",
      "CAMILA\n"
     ]
    }
   ],
   "source": [
    "print('Digite o nome: ')\n",
    "nome = input()\n",
    "\n",
    "degrau = \"\"\n",
    "for i in nome:\n",
    "    degrau += i\n",
    "    print(degrau)"
   ]
  },
  {
   "cell_type": "markdown",
   "metadata": {},
   "source": [
    "### Exercício 4\n",
    "A série de Fibonacci é formada pela seqüência 1,1,2,3,5,8,13,21,34,55,... (o próximo termo, a partir do terceiro, é sempre gerado a partir do somatório dos últimos dois). Faça um programa capaz de gerar a série até o n−ésimo termo (onde o valor n deve ser inserido pelo usuário)."
   ]
  },
  {
   "cell_type": "code",
   "execution_count": 61,
   "metadata": {},
   "outputs": [
    {
     "name": "stdout",
     "output_type": "stream",
     "text": [
      "Informe o n-ésimo: \n"
     ]
    },
    {
     "name": "stdin",
     "output_type": "stream",
     "text": [
      " 15\n"
     ]
    },
    {
     "name": "stdout",
     "output_type": "stream",
     "text": [
      "[1, 1, 2, 3, 5, 8, 13, 21, 34, 55, 89, 144, 233, 377, 610]\n"
     ]
    }
   ],
   "source": [
    "print('Informe o n-ésimo: ')\n",
    "n = int(input())\n",
    "\n",
    "if n == 2:\n",
    "    lista = [1, 1]\n",
    "elif n == 1:\n",
    "    lista = [1]\n",
    "else:\n",
    "    lista = [1, 1]\n",
    "    i = 1\n",
    "    while i <= n-2:\n",
    "        pos1 = lista[-1]\n",
    "        pos2 = lista[-2]\n",
    "        proximo = pos1 + pos2\n",
    "        lista.append(proximo)\n",
    "        i += 1\n",
    "print(lista)"
   ]
  },
  {
   "cell_type": "markdown",
   "metadata": {},
   "source": [
    "### Exercício 5\n",
    "Faça um programa que leia e valide as seguintes informações:\n",
    "- Nome: maior que 3 caracteres;\n",
    "- Idade: entre 0 e 150;\n",
    "- Salário: maior que zero;\n",
    "- Sexo: 'f' ou 'm';\n",
    "- Estado Civil: 's', 'c', 'v', 'd';"
   ]
  },
  {
   "cell_type": "code",
   "execution_count": 79,
   "metadata": {},
   "outputs": [
    {
     "name": "stdout",
     "output_type": "stream",
     "text": [
      "Informe o nome com ao menos 3 caracteres:\n"
     ]
    },
    {
     "name": "stdin",
     "output_type": "stream",
     "text": [
      " Vitor\n"
     ]
    },
    {
     "name": "stdout",
     "output_type": "stream",
     "text": [
      "Informe uma idade não-nula menor que 150:\n"
     ]
    },
    {
     "name": "stdin",
     "output_type": "stream",
     "text": [
      " 24\n"
     ]
    },
    {
     "name": "stdout",
     "output_type": "stream",
     "text": [
      "Informe um salário não-nulo:\n"
     ]
    },
    {
     "name": "stdin",
     "output_type": "stream",
     "text": [
      " 2166\n"
     ]
    },
    {
     "name": "stdout",
     "output_type": "stream",
     "text": [
      "Informe o sexo com \"M\" ou \"F\" (masculino ou feminino):\n"
     ]
    },
    {
     "name": "stdin",
     "output_type": "stream",
     "text": [
      "\"F\" ou \"M\":  M\n"
     ]
    },
    {
     "name": "stdout",
     "output_type": "stream",
     "text": [
      "Por último, informe o estado civil.\n",
      "S para solteiro(a) \n",
      "C para casado(a) \n",
      "V para viúvo(a) \n",
      "D para divorciado(a):\n"
     ]
    },
    {
     "name": "stdin",
     "output_type": "stream",
     "text": [
      "\n",
      "Apenas uma letra:  C\n"
     ]
    }
   ],
   "source": [
    "print('Informe o nome com ao menos 3 caracteres:')\n",
    "nome = input()\n",
    "while len(nome) <= 3:\n",
    "    print('O nome informado possui poucos caracteres, tente novamente:')\n",
    "    nome = input()\n",
    "\n",
    "print('Informe uma idade não-nula menor que 150:')\n",
    "idade = int(input())\n",
    "while idade <= 0 or idade >= 150:\n",
    "    print('Idade inválida, informe outra:')\n",
    "    idade = int(input())\n",
    "\n",
    "print('Informe um salário não-nulo:')\n",
    "salario = float(input())\n",
    "while salario <= 0:\n",
    "    print('Salário inválido, informe outro:')\n",
    "    salario = float(input())\n",
    "\n",
    "print('Informe o sexo com \"M\" ou \"F\" (masculino ou feminino):')\n",
    "sexo = input('\"F\" ou \"M\": ')\n",
    "sexos = ['F', 'M']\n",
    "while sexo not in sexos:\n",
    "    print('Sexo inválido. Tente novamente:')\n",
    "    sexo = input('Apenas \"F\" ou \"M\": ')\n",
    "\n",
    "print('Por último, informe o estado civil.')\n",
    "print('S para solteiro(a) \\nC para casado(a) \\nV para viúvo(a) \\nD para divorciado(a):')\n",
    "est_civil = input('\\nApenas uma letra: ')\n",
    "validos = ['S', 'C', 'V', 'D']\n",
    "while est_civil not in validos:\n",
    "    print('ATENÇÃO: S para solteiro(a) \\nC para casado(a) \\nV para viúvo(a) \\nD para divorciado(a):')\n",
    "    est_civil = input('\\nApenas uma letra entre as informadas: ')"
   ]
  },
  {
   "cell_type": "markdown",
   "metadata": {},
   "source": [
    "### Exercício 6\n",
    "Faça um programa que peça um número inteiro e determine se ele é ou não um número primo. Um número primo é aquele que é divisível somente por ele mesmo e por 1. \n",
    "Dica: Utilize o operador aritmético `%`, que retorna o resto da divisão de dois números."
   ]
  },
  {
   "cell_type": "code",
   "execution_count": 93,
   "metadata": {},
   "outputs": [
    {
     "name": "stdin",
     "output_type": "stream",
     "text": [
      "Informe o número:  17\n"
     ]
    },
    {
     "name": "stdout",
     "output_type": "stream",
     "text": [
      "Este é um número primo.\n"
     ]
    }
   ],
   "source": [
    "numero = float(input('Informe o número: '))\n",
    "\n",
    "if numero % 2 == 0 or numero % 3 == 0:\n",
    "    print('Este não é um número primo.')\n",
    "else:\n",
    "    print('Este é um número primo.')"
   ]
  }
 ],
 "metadata": {
  "kernelspec": {
   "display_name": "Python 3 (ipykernel)",
   "language": "python",
   "name": "python3"
  },
  "language_info": {
   "codemirror_mode": {
    "name": "ipython",
    "version": 3
   },
   "file_extension": ".py",
   "mimetype": "text/x-python",
   "name": "python",
   "nbconvert_exporter": "python",
   "pygments_lexer": "ipython3",
   "version": "3.12.3"
  }
 },
 "nbformat": 4,
 "nbformat_minor": 4
}
